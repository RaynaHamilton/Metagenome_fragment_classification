{
 "cells": [
  {
   "cell_type": "markdown",
   "id": "a8cd7fd1-b94d-4e0c-ad25-cfa8b5af0bd4",
   "metadata": {},
   "source": [
    "## Rayna Hamilton\n",
    "## 410.734: Practical Introduction to Metagenomics\n",
    "## Final Project Proposal Supplement\n",
    "## November 20, 2022"
   ]
  },
  {
   "cell_type": "markdown",
   "id": "547169f5-17f9-4971-9941-b8b40acdb253",
   "metadata": {},
   "source": [
    "Below we will perform some prokaryotic genome fragment classification, using the dataset and approach illustrated by Perry and Beiko [1].  Support vector machines will be constructed to classify 500-bp fragments into species using length-256 tetranucleotide frequency vectors as input features.  As this is for demonstration purposes, we will only perform a small number of the total pairwise species comparisons (299 151) performed in the original article."
   ]
  },
  {
   "cell_type": "code",
   "execution_count": 1,
   "id": "6ad0c006-c4cb-4083-b873-4cd129021536",
   "metadata": {},
   "outputs": [],
   "source": [
    "# import modules\n",
    "import pandas as pd\n",
    "import subprocess\n",
    "import os\n",
    "from sklearn.metrics import accuracy_score\n",
    "import time\n",
    "import random\n",
    "from sklearn import svm\n",
    "from sklearn.model_selection import GridSearchCV, train_test_split\n",
    "import numpy as np\n",
    "import matplotlib.pyplot as plt"
   ]
  },
  {
   "cell_type": "code",
   "execution_count": 2,
   "id": "5f17a815-9a00-484c-87da-84a97a8884c6",
   "metadata": {},
   "outputs": [
    {
     "data": {
      "text/html": [
       "<div>\n",
       "<style scoped>\n",
       "    .dataframe tbody tr th:only-of-type {\n",
       "        vertical-align: middle;\n",
       "    }\n",
       "\n",
       "    .dataframe tbody tr th {\n",
       "        vertical-align: top;\n",
       "    }\n",
       "\n",
       "    .dataframe thead th {\n",
       "        text-align: right;\n",
       "    }\n",
       "</style>\n",
       "<table border=\"1\" class=\"dataframe\">\n",
       "  <thead>\n",
       "    <tr style=\"text-align: right;\">\n",
       "      <th></th>\n",
       "      <th>Organism Name</th>\n",
       "      <th>NCBI Project ID</th>\n",
       "      <th>Domain</th>\n",
       "      <th>Phylum</th>\n",
       "      <th>Seq.</th>\n",
       "      <th>Genome Size (Mb)</th>\n",
       "      <th>G+C Content</th>\n",
       "    </tr>\n",
       "  </thead>\n",
       "  <tbody>\n",
       "    <tr>\n",
       "      <th>1</th>\n",
       "      <td>Acaryochloris marina MBIC11017</td>\n",
       "      <td>12997.0</td>\n",
       "      <td>Bacteria</td>\n",
       "      <td>Cyanobacteria</td>\n",
       "      <td>99</td>\n",
       "      <td>8.36</td>\n",
       "      <td>47.0</td>\n",
       "    </tr>\n",
       "    <tr>\n",
       "      <th>2</th>\n",
       "      <td>Acholeplasma laidlawii PG-8A</td>\n",
       "      <td>19259.0</td>\n",
       "      <td>Bacteria</td>\n",
       "      <td>Tenericutes</td>\n",
       "      <td>172</td>\n",
       "      <td>1.5</td>\n",
       "      <td>31.9</td>\n",
       "    </tr>\n",
       "    <tr>\n",
       "      <th>3</th>\n",
       "      <td>Acidiphilium cryptum JF-5</td>\n",
       "      <td>15753.0</td>\n",
       "      <td>Bacteria</td>\n",
       "      <td>Proteobacteria</td>\n",
       "      <td>5</td>\n",
       "      <td>3.97</td>\n",
       "      <td>67.1</td>\n",
       "    </tr>\n",
       "    <tr>\n",
       "      <th>4</th>\n",
       "      <td>Acidithiobacillus ferrooxidans ATCC 53993</td>\n",
       "      <td>16689.0</td>\n",
       "      <td>Bacteria</td>\n",
       "      <td>Proteobacteria</td>\n",
       "      <td>5</td>\n",
       "      <td>2.9</td>\n",
       "      <td>58.9</td>\n",
       "    </tr>\n",
       "    <tr>\n",
       "      <th>5</th>\n",
       "      <td>Acidobacteria bacterium Ellin345</td>\n",
       "      <td>15771.0</td>\n",
       "      <td>Bacteria</td>\n",
       "      <td>Acidobacteria</td>\n",
       "      <td>5</td>\n",
       "      <td>5.7</td>\n",
       "      <td>58.4</td>\n",
       "    </tr>\n",
       "  </tbody>\n",
       "</table>\n",
       "</div>"
      ],
      "text/plain": [
       "                               Organism Name  NCBI Project ID    Domain  \\\n",
       "1             Acaryochloris marina MBIC11017          12997.0  Bacteria   \n",
       "2               Acholeplasma laidlawii PG-8A          19259.0  Bacteria   \n",
       "3                  Acidiphilium cryptum JF-5          15753.0  Bacteria   \n",
       "4  Acidithiobacillus ferrooxidans ATCC 53993          16689.0  Bacteria   \n",
       "5           Acidobacteria bacterium Ellin345          15771.0  Bacteria   \n",
       "\n",
       "           Phylum Seq. Genome Size (Mb)  G+C Content  \n",
       "1   Cyanobacteria   99             8.36         47.0  \n",
       "2     Tenericutes  172              1.5         31.9  \n",
       "3  Proteobacteria    5             3.97         67.1  \n",
       "4  Proteobacteria    5              2.9         58.9  \n",
       "5   Acidobacteria    5              5.7         58.4  "
      ]
     },
     "execution_count": 2,
     "metadata": {},
     "output_type": "execute_result"
    }
   ],
   "source": [
    "genomes=pd.read_csv(\"table_S1.csv\")#supplementary table containing all genomes\n",
    "genomes.drop(0,inplace=True)\n",
    "genomes.head() "
   ]
  },
  {
   "cell_type": "markdown",
   "id": "5a9f02ba-8bb5-4aff-9d61-29ed2564edda",
   "metadata": {},
   "source": [
    "We will use the NCBI datasets command-line tool to download each genome specified in the supplementary table if it is not already present in our file system."
   ]
  },
  {
   "cell_type": "code",
   "execution_count": 3,
   "id": "8352c5be-a5b1-4c98-acf6-76a6d77093eb",
   "metadata": {},
   "outputs": [
    {
     "name": "stdout",
     "output_type": "stream",
     "text": [
      "100 genomes downloaded\n",
      "200 genomes downloaded\n",
      "300 genomes downloaded\n",
      "400 genomes downloaded\n",
      "500 genomes downloaded\n",
      "600 genomes downloaded\n",
      "700 genomes downloaded\n",
      "774 FASTA files were found in the genomes folder, of 774 expected genomes.\n"
     ]
    }
   ],
   "source": [
    "if not os.path.isdir(\"genomes\"):\n",
    "    os.mkdir(\"genomes\")\n",
    "\n",
    "for i,organism in enumerate(genomes[\"Organism Name\"]):\n",
    "    #print(organism)\n",
    "    if i%100==0 and i!=0:\n",
    "        print(f\"{i} genomes downloaded\")\n",
    "    if not os.path.exists(f\"genomes/{organism.replace(' ','_')}.fna\"):#downloading genome should be a one-time cost\n",
    "        subprocess.call([\"datasets\",\"download\",\"genome\",\"taxon\",f\"'{organism}'\",\"--assembly-source\",\"Genbank\"], stderr=subprocess.DEVNULL, stdout=subprocess.DEVNULL)\n",
    "        subprocess.call([\"unzip\",\"-o\",\"ncbi_dataset.zip\"], stderr=subprocess.DEVNULL, stdout=subprocess.DEVNULL)\n",
    "        temp=os.listdir(\"/home/jupyter/ncbi_dataset/data/\")\n",
    "        genome_name=None\n",
    "        #print(temp)\n",
    "        for file in temp:\n",
    "            if \"GCA\" in file:\n",
    "                genome_name=file\n",
    "                break\n",
    "        #print(genome_name)\n",
    "        if genome_name is not None:\n",
    "            file_name=os.listdir(f\"/home/jupyter/ncbi_dataset/data/{genome_name}\")[0]\n",
    "            subprocess.call([\"mv\",f\"/home/jupyter/ncbi_dataset/data/{genome_name}/{file_name}\",f\"genomes/{organism.replace(' ','_').replace('/','someannoyingslash')}.fna\"])#mv will get confused by slashes in name since it indicates a directory, so replace with something that isn't likely to otherwise be found in names\n",
    "        else:\n",
    "            print(f\"Something went wrong downloading genome for {organism}.\")#indicate any genomes that you will need to download manually\n",
    "        subprocess.call([\"rm\",\"-rf\",\"/home/jupyter/ncbi_dataset\"])\n",
    "print(f\"{len([val for val in list(os.listdir('genomes')) if val.endswith('.fna')])} FASTA files were found in the genomes folder, of {len(genomes)} expected genomes.\")"
   ]
  },
  {
   "cell_type": "code",
   "execution_count": 4,
   "id": "61b2353e-0896-4af1-9f7e-49d190c57dba",
   "metadata": {},
   "outputs": [],
   "source": [
    "#identify any genomes which didn't download successfully\n",
    "for organism in genomes[\"Organism Name\"]:\n",
    "    if not os.path.exists(f\"genomes/{organism.replace(' ','_').replace('/','someannoyingslash')}.fna\"):\n",
    "        print(organism)"
   ]
  },
  {
   "cell_type": "markdown",
   "id": "9ffa302c-6691-4e96-a1f1-1eba284a8e29",
   "metadata": {},
   "source": [
    "Let's make the list of tetranucleotides that we will be counting."
   ]
  },
  {
   "cell_type": "code",
   "execution_count": 5,
   "id": "83eca4d5-e9e7-4dcc-95e3-19ab483b385a",
   "metadata": {},
   "outputs": [
    {
     "name": "stdout",
     "output_type": "stream",
     "text": [
      "There are 256 to be counted, 256 of which are unique.\n"
     ]
    }
   ],
   "source": [
    "nucleotides=[\"A\",\"T\",\"G\",\"C\"]\n",
    "tetranucleotides=[]\n",
    "for a in nucleotides:\n",
    "    for b in nucleotides:\n",
    "        for c in nucleotides:\n",
    "            for d in nucleotides:\n",
    "                tetranucleotides.append(a+b+c+d)\n",
    "print(f\"There are {len(tetranucleotides)} to be counted, {len(set(tetranucleotides))} of which are unique.\") #sanity check"
   ]
  },
  {
   "cell_type": "markdown",
   "id": "3e1ff21c-32a0-494b-ad1e-8e6e4febda5c",
   "metadata": {},
   "source": [
    "It takes a long time to calculate frequencies and it is inefficient to store all in memory, so let's write each genome frequency dataset to a file."
   ]
  },
  {
   "cell_type": "code",
   "execution_count": 6,
   "id": "d0675f96-b172-4c7d-a0c4-b203886da9cd",
   "metadata": {},
   "outputs": [
    {
     "name": "stdout",
     "output_type": "stream",
     "text": [
      "100 organism frequencies calculated.\n",
      "200 organism frequencies calculated.\n",
      "300 organism frequencies calculated.\n",
      "400 organism frequencies calculated.\n",
      "500 organism frequencies calculated.\n",
      "600 organism frequencies calculated.\n",
      "700 organism frequencies calculated.\n",
      "774 frequency files were found in the frequencies folder, of 774 expected frequency files.\n"
     ]
    }
   ],
   "source": [
    "\n",
    "if not os.path.isdir(\"frequencies\"):\n",
    "    os.mkdir(\"frequencies\")\n",
    "\n",
    "for i,organism in enumerate(genomes[\"Organism Name\"]):\n",
    "    if i%100==0 and i!=0:\n",
    "        print(f\"{i} organism frequencies calculated.\")\n",
    "    if not os.path.exists(f\"frequencies/{organism.replace(' ','_').replace('/','someannoyingslash')}_freqs.csv\"):\n",
    "\n",
    "        file=f\"genomes/{organism.replace(' ','_').replace('/','someannoyingslash')}.fna\"\n",
    "        if os.path.exists(file):\n",
    "            sequence=\"\".join([line.strip() for line in open(file).readlines() if not line.startswith(\">\")])#readlines() is often bad practice for large files, but since here we know that bacterial genomes are all fairly small, so we will use the list comprehension for speed\n",
    "\n",
    "            frequencies=[]\n",
    "            for start in range(0,len(sequence),500):\n",
    "                if start+500<len(sequence):\n",
    "                    region=sequence[start:start+500]\n",
    "                    frequencies.append([])\n",
    "                    for tetranucleotide in tetranucleotides:\n",
    "                        frequencies[-1].append(region.count(tetranucleotide)/497)\n",
    "            df=pd.DataFrame(frequencies)\n",
    "            df.columns=tetranucleotides\n",
    "            df.to_csv(f\"frequencies/{organism.replace(' ','_').replace('/','someannoyingslash')}_freqs.csv\",index=False)\n",
    "        else:\n",
    "            print(f\"Could not find genome for {organism}.\")\n",
    "print(f\"{len([val for val in list(os.listdir('frequencies')) if val.endswith('_freqs.csv')])} frequency files were found in the frequencies folder, of {len(genomes)} expected frequency files.\")"
   ]
  },
  {
   "cell_type": "code",
   "execution_count": 7,
   "id": "44fcc0d4-6b0a-4d41-b980-824bb4f609d0",
   "metadata": {},
   "outputs": [
    {
     "name": "stdout",
     "output_type": "stream",
     "text": [
      "299151 distinct genome pairs identified.\n"
     ]
    }
   ],
   "source": [
    "pairs=[]\n",
    "for i,organism_a in enumerate(genomes[\"Organism Name\"]):\n",
    "    for j,organism_b in enumerate(genomes[\"Organism Name\"]):\n",
    "        if i<j:\n",
    "            pairs.append([organism_a,organism_b])\n",
    "    \n",
    "print(f\"{len(pairs)} distinct genome pairs identified.\")"
   ]
  },
  {
   "cell_type": "markdown",
   "id": "684a726a-e02c-4dfa-94e7-b3aca14aa9d2",
   "metadata": {},
   "source": [
    "Above we have calculated all pairs of genomes from the 774 unique genomes.  Let's determine the taxonomic \"distance\" of each pair (i.e. the lowest level that they share) so that we can stratify our classification accuracies by taxonomic relationship."
   ]
  },
  {
   "cell_type": "code",
   "execution_count": 8,
   "id": "e00b0ffe-86e1-4ae9-8fce-9e98f6ab992d",
   "metadata": {},
   "outputs": [],
   "source": [
    "genomes.index=genomes['Organism Name']\n",
    "different_domain=[pair for pair in pairs if genomes.loc[pair[0],'Domain']!=genomes.loc[pair[1],'Domain']]\n",
    "same_domain=[pair for pair in pairs if genomes.loc[pair[0],'Domain']==genomes.loc[pair[1],'Domain'] and genomes.loc[pair[0],'Phylum']!=genomes.loc[pair[1],'Phylum']]\n",
    "same_phylum=[pair for pair in pairs if genomes.loc[pair[0],'Phylum']==genomes.loc[pair[1],'Phylum'] and pair[0].split(' ')[0]!=pair[1].split(' ')[0]]\n",
    "same_genus=[pair for pair in pairs if pair[0].split(' ')[0]==pair[1].split(' ')[0] and genomes.loc[pair[0],'Phylum']==genomes.loc[pair[1],'Phylum'] and pair[0].split(' ')[1]!=pair[1].split(' ')[1]]\n",
    "same_species=[pair for pair in pairs if pair[0].split(' ')[0]==pair[1].split(' ')[0] and genomes.loc[pair[0],'Phylum']==genomes.loc[pair[1],'Phylum'] and pair[0].split(' ')[1]==pair[1].split(' ')[1]]"
   ]
  },
  {
   "cell_type": "code",
   "execution_count": 9,
   "id": "5be958a0-8e94-45e7-a31f-109c91356cd5",
   "metadata": {},
   "outputs": [
    {
     "name": "stdout",
     "output_type": "stream",
     "text": [
      "The number of pairs for each group are: 38213 in different domains, 173286 in the same domain, 84824 in the same phylum, 1996 in the same genus, 832 in the same species.\n"
     ]
    }
   ],
   "source": [
    "print(f\"The number of pairs for each group are: {len(different_domain)} in different domains, {len(same_domain)} in the same domain, {len(same_phylum)} in the same phylum, {len(same_genus)} in the same genus, {len(same_species)} in the same species.\")"
   ]
  },
  {
   "cell_type": "code",
   "execution_count": 11,
   "id": "09c87ce0-7338-480b-ac25-aa5ee465fa74",
   "metadata": {},
   "outputs": [],
   "source": [
    "def make_training_data(file_a,file_b):\n",
    "    df_a=pd.read_csv(file_a)\n",
    "    df_a['organism']=[file_a]*len(df_a)\n",
    "    df_b=pd.read_csv(file_b)\n",
    "    df_b['organism']=[file_b]*len(df_b)\n",
    "    data=pd.concat([df_a,df_b])\n",
    "    data=data.sample(frac=1)\n",
    "    return np.array(data[data.columns[:-1]]),np.array(data['organism'])"
   ]
  },
  {
   "cell_type": "markdown",
   "id": "5a1d0737-852e-4628-b8ea-2abd5ad2a7f7",
   "metadata": {},
   "source": [
    "Let's try constructing some SVMs.  We will use a similar approach to Perry and Beiko, but we will only use 10 pairs for each level of taxonomic distance."
   ]
  },
  {
   "cell_type": "code",
   "execution_count": 30,
   "id": "d2b1a0b3-658d-449e-9e27-b65dd7a95b1e",
   "metadata": {},
   "outputs": [
    {
     "name": "stdout",
     "output_type": "stream",
     "text": [
      "Organism pairs analyzed are: \n",
      "Archaea, Crenarchaeota, Sulfolobus acidocaldarius DSM 639 vs Bacteria, Proteobacteria, Xanthomonas oryzae pv. oryzae MAFF 311018\n",
      "Bacteria, Proteobacteria, Alteromonas macleodii Deep ecotype vs Archaea, Crenarchaeota, Metallosphaera sedula DSM 5348\n",
      "Archaea, Euryarchaeota, Methanosaeta thermophila PT vs Bacteria, Thermotogae, Thermotoga sp. RQ2\n",
      "Archaea, Euryarchaeota, Natronomonas pharaonis DSM 2160 vs Bacteria, Bacteroidetes, Parabacteroides distasonis ATCC 8503\n",
      "Archaea, Euryarchaeota, Thermococcus onnurineus NA1 vs Bacteria, Proteobacteria, Wolbachia endosymbiont strain TRS of Brugia malayi\n",
      "Bacteria, Proteobacteria, Aeromonas hydrophila subsp. hydrophila ATCC 7966 vs Archaea, Euryarchaeota, Methanococcus maripaludis C7\n",
      "Bacteria, Proteobacteria, Coxiella burnetii CbuK_Q154 vs Archaea, Euryarchaeota, Methanococcus maripaludis C7\n",
      "Bacteria, Verrucomicrobia, Methylacidiphilum infernorum V4 vs Archaea, Nanoarchaeota, Nanoarchaeum equitans Kin4-M\n",
      "Archaea, Crenarchaeota, Nitrosopumilus maritimus SCM1 vs Bacteria, Firmicutes, Pelotomaculum thermopropionicum SI\n",
      "Archaea, Euryarchaeota, Halobacterium salinarum R1 vs Bacteria, Proteobacteria, Legionella pneumophila subsp. pneumophila str. Philadelphia 1\n",
      "Level complete, 109.5445773601532 seconds elapsed.\n",
      "Average testing classification accuracy for this level was 0.9918880371452398.\n",
      "\n",
      "Organism pairs analyzed are: \n",
      "Bacteria, Cyanobacteria, Synechococcus elongatus PCC 6301 vs Bacteria, Proteobacteria, Xanthomonas oryzae pv. oryzae KACC10331\n",
      "Bacteria, Proteobacteria, Brucella canis ATCC 23365 vs Bacteria, Firmicutes, Leuconostoc mesenteroides subsp. mesenteroides ATCC 8293\n",
      "Bacteria, Verrucomicrobia, Akkermansia muciniphila ATCC BAA-835 vs Bacteria, Cyanobacteria, Synechococcus sp. JA-2-3Ba(2-13)\n",
      "Bacteria, Actinobacteria, Mycobacterium tuberculosis CDC1551 vs Bacteria, Deinococcus-Thermus, Thermus thermophilus HB27\n",
      "Bacteria, Proteobacteria, Magnetococcus sp. MC-1 vs Bacteria, Firmicutes, Streptococcus agalactiae NEM316\n",
      "Bacteria, Actinobacteria, Corynebacterium jeikeium K411 vs Bacteria, Tenericutes, Mycoplasma capricolum subsp. capricolum ATCC 27343\n",
      "Bacteria, Firmicutes, Bacillus anthracis str. Sterne vs Bacteria, Proteobacteria, Burkholderia cenocepacia MC0-3\n",
      "Bacteria, Chlamydiae, Chlamydophila felis Fe/C-56 vs Bacteria, Firmicutes, Thermoanaerobacter sp. X514\n",
      "Bacteria, Proteobacteria, Dinoroseobacter shibae DFL 12 vs Bacteria, Firmicutes, Lactobacillus gasseri ATCC 33323\n",
      "Bacteria, Cyanobacteria, Anabaena variabilis ATCC 29413 vs Bacteria, Firmicutes, Clostridium difficile 630\n",
      "Level complete, 224.49939155578613 seconds elapsed.\n",
      "Average testing classification accuracy for this level was 0.9885320706735513.\n",
      "\n",
      "Organism pairs analyzed are: \n",
      "Bacteria, Proteobacteria, Haemophilus influenzae PittEE vs Bacteria, Proteobacteria, Pseudomonas aeruginosa PAO1\n",
      "Bacteria, Proteobacteria, Bordetella petrii DSM 12804 vs Bacteria, Proteobacteria, Roseobacter denitrificans OCh 114\n",
      "Bacteria, Proteobacteria, Rickettsia massiliae MTU5 vs Bacteria, Proteobacteria, Xanthomonas oryzae pv. oryzae MAFF 311018\n",
      "Bacteria, Proteobacteria, Escherichia coli 536 vs Bacteria, Proteobacteria, Syntrophus aciditrophicus SB\n",
      "Bacteria, Proteobacteria, Escherichia coli UTI89 vs Bacteria, Proteobacteria, Vibrio cholerae O1 biovar eltor str. N16961\n",
      "Bacteria, Proteobacteria, Haemophilus influenzae PittEE vs Bacteria, Proteobacteria, Vibrio fischeri MJ11\n",
      "Bacteria, Firmicutes, Clostridium beijerinckii NCIMB 8052 vs Bacteria, Firmicutes, Streptococcus pyogenes M1 GAS\n",
      "Bacteria, Chlamydiae, Candidatus Protochlamydia amoebophila UWE25 vs Bacteria, Chlamydiae, Chlamydophila abortus S26/3\n",
      "Bacteria, Proteobacteria, Klebsiella pneumoniae subsp. pneumoniae MGH 78578 vs Bacteria, Proteobacteria, Parvibaculum lavamentivorans DS-1\n",
      "Bacteria, Proteobacteria, Buchnera aphidicola str. Cc (Cinara cedri) vs Bacteria, Proteobacteria, Pseudomonas aeruginosa UCBPP-PA14\n",
      "Level complete, 402.7094805240631 seconds elapsed.\n",
      "Average testing classification accuracy for this level was 0.9718344648655742.\n",
      "\n",
      "Organism pairs analyzed are: \n",
      "Bacteria, Proteobacteria, Shewanella pealeana ATCC 700345 vs Bacteria, Proteobacteria, Shewanella sp. MR-7\n",
      "Bacteria, Firmicutes, Clostridium kluyveri DSM 555 vs Bacteria, Firmicutes, Clostridium tetani E88\n",
      "Bacteria, Proteobacteria, Shewanella denitrificans OS217 vs Bacteria, Proteobacteria, Shewanella sp. W3-18-1\n",
      "Bacteria, Firmicutes, Lactobacillus brevis ATCC 367 vs Bacteria, Firmicutes, Lactobacillus casei ATCC 334\n",
      "Bacteria, Proteobacteria, Burkholderia cenocepacia HI2424 vs Bacteria, Proteobacteria, Burkholderia multivorans ATCC 17616 JGI\n",
      "Bacteria, Actinobacteria, Mycobacterium bovis BCG str. Pasteur 1173P2 vs Bacteria, Actinobacteria, Mycobacterium tuberculosis F11\n",
      "Bacteria, Firmicutes, Streptococcus agalactiae NEM316 vs Bacteria, Firmicutes, Streptococcus pneumoniae R6\n",
      "Bacteria, Firmicutes, Streptococcus pneumoniae R6 vs Bacteria, Firmicutes, Streptococcus suis 05ZYH33\n",
      "Bacteria, Chlorobi, Chlorobium chlorochromatii CaD3 vs Bacteria, Chlorobi, Chlorobium tepidum TLS\n",
      "Bacteria, Proteobacteria, Yersinia pestis KIM vs Bacteria, Proteobacteria, Yersinia pseudotuberculosis IP 32953\n",
      "Level complete, 2101.3262548446655 seconds elapsed.\n",
      "Average testing classification accuracy for this level was 0.7149664770619499.\n",
      "\n",
      "Organism pairs analyzed are: \n",
      "Bacteria, Proteobacteria, Salmonella enterica subsp. enterica serovar Agona str. SL483 vs Bacteria, Proteobacteria, Salmonella enterica subsp. enterica serovar Heidelberg str. SL476\n",
      "Bacteria, Firmicutes, Staphylococcus aureus subsp. aureus MW2 vs Bacteria, Firmicutes, Staphylococcus aureus subsp. aureus str. Newman\n",
      "Bacteria, Cyanobacteria, Prochlorococcus marinus str. MIT 9313 vs Bacteria, Cyanobacteria, Prochlorococcus marinus subsp. marinus str. CCMP1375\n",
      "Bacteria, Proteobacteria, Burkholderia cenocepacia J2315 vs Bacteria, Proteobacteria, Burkholderia cenocepacia MC0-3\n",
      "Bacteria, Firmicutes, Staphylococcus aureus subsp. aureus MRSA252 vs Bacteria, Firmicutes, Staphylococcus aureus subsp. aureus MSSA476\n",
      "Bacteria, Proteobacteria, Acinetobacter baumannii ACICU vs Bacteria, Proteobacteria, Acinetobacter baumannii ATCC 17978\n",
      "Bacteria, Proteobacteria, Francisella tularensis subsp. holarctica vs Bacteria, Proteobacteria, Francisella tularensis subsp. mediasiatica FSC147\n",
      "Bacteria, Proteobacteria, Escherichia coli 536 vs Bacteria, Proteobacteria, Escherichia coli E24377A\n",
      "Bacteria, Proteobacteria, Escherichia coli HS vs Bacteria, Proteobacteria, Escherichia coli str. K-12 substr. DH10B\n",
      "Bacteria, Actinobacteria, Mycobacterium sp. KMS vs Bacteria, Actinobacteria, Mycobacterium sp. MCS\n",
      "Level complete, 3327.166976451874 seconds elapsed.\n",
      "Average testing classification accuracy for this level was 0.5547053067885687.\n",
      "\n"
     ]
    }
   ],
   "source": [
    "random.seed(10)\n",
    "\n",
    "temp=None\n",
    "results=[]\n",
    "parameters = [\n",
    "  {'C': [1000,10000], 'gamma': [0.01,0.001], 'kernel': ['rbf']},\n",
    " ]\n",
    "\n",
    "for level in different_domain,same_domain,same_phylum,same_genus,same_species:\n",
    "    chosen_pairs=random.sample(level,10)\n",
    "    temp=time.time()\n",
    "    print(\"Organism pairs analyzed are: \")\n",
    "    for organism_a,organism_b in chosen_pairs:\n",
    "        print(f'{\", \".join(list(genomes.loc[organism_a,[\"Domain\",\"Phylum\",\"Organism Name\"]]))} vs {\", \".join(list(genomes.loc[organism_b,[\"Domain\",\"Phylum\",\"Organism Name\"]]))}')\n",
    "        X,y=make_training_data(f\"frequencies/{organism_a.replace(' ','_').replace('/','someannoyingslash')}_freqs.csv\",f\"frequencies/{organism_b.replace(' ','_').replace('/','someannoyingslash')}_freqs.csv\")\n",
    "        svc = svm.SVC()\n",
    "        clf = GridSearchCV(svc, parameters,n_jobs=-1)\n",
    "        clf.fit(X,y)\n",
    "        results.append([clf.cv_results_])\n",
    "    \n",
    "    print(f\"Level complete, {time.time()-temp} seconds elapsed.\")\n",
    "    print(f\"Average testing classification accuracy for this level was {sum([max(result[0]['mean_test_score']) for result in results[-10:]])/10}.\\n\")"
   ]
  },
  {
   "cell_type": "code",
   "execution_count": 56,
   "id": "caa26ced-3606-4251-950f-1ac53b60d075",
   "metadata": {},
   "outputs": [
    {
     "data": {
      "image/png": "[encoded data removed]",
      "text/plain": [
       "<Figure size 640x480 with 1 Axes>"
      ]
     },
     "metadata": {},
     "output_type": "display_data"
    }
   ],
   "source": [
    "import matplotlib.pyplot as plt\n",
    "#<50,50-70,70-90,90-95,95-99,99+\n",
    "results_df=pd.DataFrame()#index by 5 groups\n",
    "results_df['temp_indices']=[(0,10),(10,20),(20,30),(30,40),(40,50)]\n",
    "results_df.index=[\"Different Domains\",\"Same Domain\",\"Same Phylum\",\"Same Genus\",\"Same Species\"]\n",
    "results_df[\"<50%\"]=[sum([max(temp[0]['mean_test_score'])<0.5 for temp in results[i1:i2]]) for i1,i2 in results_df['temp_indices']]\n",
    "results_df[\">=50%\"]=[sum([(max(temp[0]['mean_test_score'])<0.7 and max(temp[0]['mean_test_score'])>=0.5) for temp in results[i1:i2]]) for i1,i2 in results_df['temp_indices']]\n",
    "results_df[\">=70%\"]=[sum([(max(temp[0]['mean_test_score'])>=0.7 and max(temp[0]['mean_test_score'])<0.9) for temp in results[i1:i2]]) for i1,i2 in results_df['temp_indices']]\n",
    "results_df[\">=90%\"]=[sum([(max(temp[0]['mean_test_score'])>=0.9 and max(temp[0]['mean_test_score'])<0.95) for temp in results[i1:i2]]) for i1,i2 in results_df['temp_indices']]\n",
    "results_df[\">=95%\"]=[sum([(max(temp[0]['mean_test_score'])>=0.95 and max(temp[0]['mean_test_score'])<0.99) for temp in results[i1:i2]]) for i1,i2 in results_df['temp_indices']]\n",
    "results_df[\">=95%\"]=[sum([max(temp[0]['mean_test_score'])>=0.95 for temp in results[i1:i2]]) for i1,i2 in results_df['temp_indices']]\n",
    "results_df.plot(kind='bar', stacked=True, color=[\"darkblue\",\"royalblue\",\"lightskyblue\",\"mistyrose\",\"coral\",\"red\"])\n",
    "plt.xlabel('Taxonomic distance')\n",
    "plt.ylabel('Count')\n",
    "plt.title('Pairwise SVM classification accuracy on tetranucleotide frequency vectors from prokaryotic genomes')\n",
    "plt.show()"
   ]
  },
  {
   "cell_type": "markdown",
   "id": "b6f2d9a9-9b75-46d1-adfe-d2ab681de5ca",
   "metadata": {},
   "source": [
    "Our results are unsurprising and much the same as the original publication: classification accuracy is very high when comparing very distantly-related species but decreases as relationships become closer.  Classification performance on same-species fragments into subspecies is really no better than random chance (assigning every fragment to species 1 would still give 50% accuracy if the genomes were equal length).  This result is likely due to use of relatively short tetranucleotide frequencies; perhaps use of longer k-mers for counting would yield higher accuracy for same-genus and same-species fragments. "
   ]
  },
  {
   "cell_type": "markdown",
   "id": "98a14681-01e3-4e43-b925-4b2eee3c1970",
   "metadata": {},
   "source": [
    "## References\n",
    "1) Perry, S. C., & Beiko, R. G. (2010). Distinguishing microbial genome fragments based on their composition: evolutionary and comparative genomic perspectives. Genome biology and evolution, 2, 117–131. https://doi.org/10.1093/gbe/evq004"
   ]
  }
 ],
 "metadata": {
  "environment": {
   "kernel": "python3",
   "name": "common-cpu.m100",
   "type": "gcloud",
   "uri": "gcr.io/deeplearning-platform-release/base-cpu:m100"
  },
  "kernelspec": {
   "display_name": "Python 3",
   "language": "python",
   "name": "python3"
  },
  "language_info": {
   "codemirror_mode": {
    "name": "ipython",
    "version": 3
   },
   "file_extension": ".py",
   "mimetype": "text/x-python",
   "name": "python",
   "nbconvert_exporter": "python",
   "pygments_lexer": "ipython3",
   "version": "3.7.12"
  }
 },
 "nbformat": 4,
 "nbformat_minor": 5
}
